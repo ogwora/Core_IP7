{
 "cells": [
  {
   "cell_type": "markdown",
   "metadata": {},
   "source": [
    "# House Price Prediction"
   ]
  },
  {
   "cell_type": "markdown",
   "metadata": {},
   "source": [
    "Research Question : Hass Consulting Company is a real estate leader with over 25 years of experience. As a Chief Data Scientist, you are to study the factors that affect housing prices using the given information on real estate properties that was collected over the past few months.\n",
    "\n",
    "Create a model that would allow the company to accurately predict the sale of prices upon being provided with the predictor variables. "
   ]
  },
  {
   "cell_type": "markdown",
   "metadata": {},
   "source": [
    "Metric of Success : Select a Regression Model with the least MSE."
   ]
  },
  {
   "cell_type": "code",
   "execution_count": 242,
   "metadata": {},
   "outputs": [],
   "source": [
    "import numpy as np\n",
    "import pandas as pd\n",
    "import matplotlib.pyplot as plt\n",
    "import seaborn as sns\n",
    "\n",
    "# Suppress FutureWarning\n",
    "import warnings\n",
    "warnings.simplefilter(action='ignore', category=FutureWarning)"
   ]
  },
  {
   "cell_type": "code",
   "execution_count": 243,
   "metadata": {},
   "outputs": [],
   "source": [
    "data = pd.read_csv('House_Data.csv')"
   ]
  },
  {
   "cell_type": "code",
   "execution_count": 244,
   "metadata": {},
   "outputs": [
    {
     "data": {
      "text/html": [
       "<div>\n",
       "<style scoped>\n",
       "    .dataframe tbody tr th:only-of-type {\n",
       "        vertical-align: middle;\n",
       "    }\n",
       "\n",
       "    .dataframe tbody tr th {\n",
       "        vertical-align: top;\n",
       "    }\n",
       "\n",
       "    .dataframe thead th {\n",
       "        text-align: right;\n",
       "    }\n",
       "</style>\n",
       "<table border=\"1\" class=\"dataframe\">\n",
       "  <thead>\n",
       "    <tr style=\"text-align: right;\">\n",
       "      <th></th>\n",
       "      <th>id</th>\n",
       "      <th>price</th>\n",
       "      <th>bedrooms</th>\n",
       "      <th>bathrooms</th>\n",
       "      <th>sqft_living</th>\n",
       "      <th>sqft_lot</th>\n",
       "      <th>floors</th>\n",
       "      <th>waterfront</th>\n",
       "      <th>view</th>\n",
       "      <th>condition</th>\n",
       "      <th>grade</th>\n",
       "      <th>sqft_above</th>\n",
       "      <th>sqft_basement</th>\n",
       "      <th>yr_built</th>\n",
       "      <th>yr_renovated</th>\n",
       "      <th>zipcode</th>\n",
       "      <th>lat</th>\n",
       "      <th>long</th>\n",
       "      <th>sqft_living15</th>\n",
       "      <th>sqft_lot15</th>\n",
       "    </tr>\n",
       "  </thead>\n",
       "  <tbody>\n",
       "    <tr>\n",
       "      <th>0</th>\n",
       "      <td>7129300520</td>\n",
       "      <td>221900.0</td>\n",
       "      <td>3</td>\n",
       "      <td>1.00</td>\n",
       "      <td>1180</td>\n",
       "      <td>5650</td>\n",
       "      <td>1.0</td>\n",
       "      <td>0</td>\n",
       "      <td>0</td>\n",
       "      <td>3</td>\n",
       "      <td>7</td>\n",
       "      <td>1180</td>\n",
       "      <td>0</td>\n",
       "      <td>1955</td>\n",
       "      <td>0</td>\n",
       "      <td>98178</td>\n",
       "      <td>47.5112</td>\n",
       "      <td>-122.257</td>\n",
       "      <td>1340</td>\n",
       "      <td>5650</td>\n",
       "    </tr>\n",
       "    <tr>\n",
       "      <th>1</th>\n",
       "      <td>6414100192</td>\n",
       "      <td>538000.0</td>\n",
       "      <td>3</td>\n",
       "      <td>2.25</td>\n",
       "      <td>2570</td>\n",
       "      <td>7242</td>\n",
       "      <td>2.0</td>\n",
       "      <td>0</td>\n",
       "      <td>0</td>\n",
       "      <td>3</td>\n",
       "      <td>7</td>\n",
       "      <td>2170</td>\n",
       "      <td>400</td>\n",
       "      <td>1951</td>\n",
       "      <td>1991</td>\n",
       "      <td>98125</td>\n",
       "      <td>47.7210</td>\n",
       "      <td>-122.319</td>\n",
       "      <td>1690</td>\n",
       "      <td>7639</td>\n",
       "    </tr>\n",
       "    <tr>\n",
       "      <th>2</th>\n",
       "      <td>5631500400</td>\n",
       "      <td>180000.0</td>\n",
       "      <td>2</td>\n",
       "      <td>1.00</td>\n",
       "      <td>770</td>\n",
       "      <td>10000</td>\n",
       "      <td>1.0</td>\n",
       "      <td>0</td>\n",
       "      <td>0</td>\n",
       "      <td>3</td>\n",
       "      <td>6</td>\n",
       "      <td>770</td>\n",
       "      <td>0</td>\n",
       "      <td>1933</td>\n",
       "      <td>0</td>\n",
       "      <td>98028</td>\n",
       "      <td>47.7379</td>\n",
       "      <td>-122.233</td>\n",
       "      <td>2720</td>\n",
       "      <td>8062</td>\n",
       "    </tr>\n",
       "    <tr>\n",
       "      <th>3</th>\n",
       "      <td>2487200875</td>\n",
       "      <td>604000.0</td>\n",
       "      <td>4</td>\n",
       "      <td>3.00</td>\n",
       "      <td>1960</td>\n",
       "      <td>5000</td>\n",
       "      <td>1.0</td>\n",
       "      <td>0</td>\n",
       "      <td>0</td>\n",
       "      <td>5</td>\n",
       "      <td>7</td>\n",
       "      <td>1050</td>\n",
       "      <td>910</td>\n",
       "      <td>1965</td>\n",
       "      <td>0</td>\n",
       "      <td>98136</td>\n",
       "      <td>47.5208</td>\n",
       "      <td>-122.393</td>\n",
       "      <td>1360</td>\n",
       "      <td>5000</td>\n",
       "    </tr>\n",
       "    <tr>\n",
       "      <th>4</th>\n",
       "      <td>1954400510</td>\n",
       "      <td>510000.0</td>\n",
       "      <td>3</td>\n",
       "      <td>2.00</td>\n",
       "      <td>1680</td>\n",
       "      <td>8080</td>\n",
       "      <td>1.0</td>\n",
       "      <td>0</td>\n",
       "      <td>0</td>\n",
       "      <td>3</td>\n",
       "      <td>8</td>\n",
       "      <td>1680</td>\n",
       "      <td>0</td>\n",
       "      <td>1987</td>\n",
       "      <td>0</td>\n",
       "      <td>98074</td>\n",
       "      <td>47.6168</td>\n",
       "      <td>-122.045</td>\n",
       "      <td>1800</td>\n",
       "      <td>7503</td>\n",
       "    </tr>\n",
       "  </tbody>\n",
       "</table>\n",
       "</div>"
      ],
      "text/plain": [
       "           id     price  bedrooms  bathrooms  sqft_living  sqft_lot  floors  \\\n",
       "0  7129300520  221900.0         3       1.00         1180      5650     1.0   \n",
       "1  6414100192  538000.0         3       2.25         2570      7242     2.0   \n",
       "2  5631500400  180000.0         2       1.00          770     10000     1.0   \n",
       "3  2487200875  604000.0         4       3.00         1960      5000     1.0   \n",
       "4  1954400510  510000.0         3       2.00         1680      8080     1.0   \n",
       "\n",
       "   waterfront  view  condition  grade  sqft_above  sqft_basement  yr_built  \\\n",
       "0           0     0          3      7        1180              0      1955   \n",
       "1           0     0          3      7        2170            400      1951   \n",
       "2           0     0          3      6         770              0      1933   \n",
       "3           0     0          5      7        1050            910      1965   \n",
       "4           0     0          3      8        1680              0      1987   \n",
       "\n",
       "   yr_renovated  zipcode      lat     long  sqft_living15  sqft_lot15  \n",
       "0             0    98178  47.5112 -122.257           1340        5650  \n",
       "1          1991    98125  47.7210 -122.319           1690        7639  \n",
       "2             0    98028  47.7379 -122.233           2720        8062  \n",
       "3             0    98136  47.5208 -122.393           1360        5000  \n",
       "4             0    98074  47.6168 -122.045           1800        7503  "
      ]
     },
     "execution_count": 244,
     "metadata": {},
     "output_type": "execute_result"
    }
   ],
   "source": [
    "data.head(5)"
   ]
  },
  {
   "cell_type": "markdown",
   "metadata": {},
   "source": [
    "# Data inspection"
   ]
  },
  {
   "cell_type": "code",
   "execution_count": 245,
   "metadata": {},
   "outputs": [
    {
     "data": {
      "text/plain": [
       "(21613, 20)"
      ]
     },
     "execution_count": 245,
     "metadata": {},
     "output_type": "execute_result"
    }
   ],
   "source": [
    "#Getting the shape of the dataset\n",
    "data.shape"
   ]
  },
  {
   "cell_type": "code",
   "execution_count": 246,
   "metadata": {},
   "outputs": [
    {
     "name": "stdout",
     "output_type": "stream",
     "text": [
      "<class 'pandas.core.frame.DataFrame'>\n",
      "RangeIndex: 21613 entries, 0 to 21612\n",
      "Data columns (total 20 columns):\n",
      " #   Column         Non-Null Count  Dtype  \n",
      "---  ------         --------------  -----  \n",
      " 0   id             21613 non-null  int64  \n",
      " 1   price          21613 non-null  float64\n",
      " 2   bedrooms       21613 non-null  int64  \n",
      " 3   bathrooms      21613 non-null  float64\n",
      " 4   sqft_living    21613 non-null  int64  \n",
      " 5   sqft_lot       21613 non-null  int64  \n",
      " 6   floors         21613 non-null  float64\n",
      " 7   waterfront     21613 non-null  int64  \n",
      " 8   view           21613 non-null  int64  \n",
      " 9   condition      21613 non-null  int64  \n",
      " 10  grade          21613 non-null  int64  \n",
      " 11  sqft_above     21613 non-null  int64  \n",
      " 12  sqft_basement  21613 non-null  int64  \n",
      " 13  yr_built       21613 non-null  int64  \n",
      " 14  yr_renovated   21613 non-null  int64  \n",
      " 15  zipcode        21613 non-null  int64  \n",
      " 16  lat            21613 non-null  float64\n",
      " 17  long           21613 non-null  float64\n",
      " 18  sqft_living15  21613 non-null  int64  \n",
      " 19  sqft_lot15     21613 non-null  int64  \n",
      "dtypes: float64(5), int64(15)\n",
      "memory usage: 3.3 MB\n"
     ]
    }
   ],
   "source": [
    "#Getting Basic info about dataset\n",
    "data.info()"
   ]
  },
  {
   "cell_type": "code",
   "execution_count": 247,
   "metadata": {},
   "outputs": [
    {
     "data": {
      "text/html": [
       "<div>\n",
       "<style scoped>\n",
       "    .dataframe tbody tr th:only-of-type {\n",
       "        vertical-align: middle;\n",
       "    }\n",
       "\n",
       "    .dataframe tbody tr th {\n",
       "        vertical-align: top;\n",
       "    }\n",
       "\n",
       "    .dataframe thead th {\n",
       "        text-align: right;\n",
       "    }\n",
       "</style>\n",
       "<table border=\"1\" class=\"dataframe\">\n",
       "  <thead>\n",
       "    <tr style=\"text-align: right;\">\n",
       "      <th></th>\n",
       "      <th>id</th>\n",
       "      <th>price</th>\n",
       "      <th>bedrooms</th>\n",
       "      <th>bathrooms</th>\n",
       "      <th>sqft_living</th>\n",
       "      <th>sqft_lot</th>\n",
       "      <th>floors</th>\n",
       "      <th>waterfront</th>\n",
       "      <th>view</th>\n",
       "      <th>condition</th>\n",
       "      <th>grade</th>\n",
       "      <th>sqft_above</th>\n",
       "      <th>sqft_basement</th>\n",
       "      <th>yr_built</th>\n",
       "      <th>yr_renovated</th>\n",
       "      <th>zipcode</th>\n",
       "      <th>lat</th>\n",
       "      <th>long</th>\n",
       "      <th>sqft_living15</th>\n",
       "      <th>sqft_lot15</th>\n",
       "    </tr>\n",
       "  </thead>\n",
       "  <tbody>\n",
       "    <tr>\n",
       "      <th>count</th>\n",
       "      <td>2.161300e+04</td>\n",
       "      <td>2.161300e+04</td>\n",
       "      <td>21613.000000</td>\n",
       "      <td>21613.000000</td>\n",
       "      <td>21613.000000</td>\n",
       "      <td>2.161300e+04</td>\n",
       "      <td>21613.000000</td>\n",
       "      <td>21613.000000</td>\n",
       "      <td>21613.000000</td>\n",
       "      <td>21613.000000</td>\n",
       "      <td>21613.000000</td>\n",
       "      <td>21613.000000</td>\n",
       "      <td>21613.000000</td>\n",
       "      <td>21613.000000</td>\n",
       "      <td>21613.000000</td>\n",
       "      <td>21613.000000</td>\n",
       "      <td>21613.000000</td>\n",
       "      <td>21613.000000</td>\n",
       "      <td>21613.000000</td>\n",
       "      <td>21613.000000</td>\n",
       "    </tr>\n",
       "    <tr>\n",
       "      <th>mean</th>\n",
       "      <td>4.580302e+09</td>\n",
       "      <td>5.401822e+05</td>\n",
       "      <td>3.370842</td>\n",
       "      <td>2.114757</td>\n",
       "      <td>2079.899736</td>\n",
       "      <td>1.510697e+04</td>\n",
       "      <td>1.494309</td>\n",
       "      <td>0.007542</td>\n",
       "      <td>0.234303</td>\n",
       "      <td>3.409430</td>\n",
       "      <td>7.656873</td>\n",
       "      <td>1788.390691</td>\n",
       "      <td>291.509045</td>\n",
       "      <td>1971.005136</td>\n",
       "      <td>84.402258</td>\n",
       "      <td>98077.939805</td>\n",
       "      <td>47.560053</td>\n",
       "      <td>-122.213896</td>\n",
       "      <td>1986.552492</td>\n",
       "      <td>12768.455652</td>\n",
       "    </tr>\n",
       "    <tr>\n",
       "      <th>std</th>\n",
       "      <td>2.876566e+09</td>\n",
       "      <td>3.673622e+05</td>\n",
       "      <td>0.930062</td>\n",
       "      <td>0.770163</td>\n",
       "      <td>918.440897</td>\n",
       "      <td>4.142051e+04</td>\n",
       "      <td>0.539989</td>\n",
       "      <td>0.086517</td>\n",
       "      <td>0.766318</td>\n",
       "      <td>0.650743</td>\n",
       "      <td>1.175459</td>\n",
       "      <td>828.090978</td>\n",
       "      <td>442.575043</td>\n",
       "      <td>29.373411</td>\n",
       "      <td>401.679240</td>\n",
       "      <td>53.505026</td>\n",
       "      <td>0.138564</td>\n",
       "      <td>0.140828</td>\n",
       "      <td>685.391304</td>\n",
       "      <td>27304.179631</td>\n",
       "    </tr>\n",
       "    <tr>\n",
       "      <th>min</th>\n",
       "      <td>1.000102e+06</td>\n",
       "      <td>7.500000e+04</td>\n",
       "      <td>0.000000</td>\n",
       "      <td>0.000000</td>\n",
       "      <td>290.000000</td>\n",
       "      <td>5.200000e+02</td>\n",
       "      <td>1.000000</td>\n",
       "      <td>0.000000</td>\n",
       "      <td>0.000000</td>\n",
       "      <td>1.000000</td>\n",
       "      <td>1.000000</td>\n",
       "      <td>290.000000</td>\n",
       "      <td>0.000000</td>\n",
       "      <td>1900.000000</td>\n",
       "      <td>0.000000</td>\n",
       "      <td>98001.000000</td>\n",
       "      <td>47.155900</td>\n",
       "      <td>-122.519000</td>\n",
       "      <td>399.000000</td>\n",
       "      <td>651.000000</td>\n",
       "    </tr>\n",
       "    <tr>\n",
       "      <th>25%</th>\n",
       "      <td>2.123049e+09</td>\n",
       "      <td>3.219500e+05</td>\n",
       "      <td>3.000000</td>\n",
       "      <td>1.750000</td>\n",
       "      <td>1427.000000</td>\n",
       "      <td>5.040000e+03</td>\n",
       "      <td>1.000000</td>\n",
       "      <td>0.000000</td>\n",
       "      <td>0.000000</td>\n",
       "      <td>3.000000</td>\n",
       "      <td>7.000000</td>\n",
       "      <td>1190.000000</td>\n",
       "      <td>0.000000</td>\n",
       "      <td>1951.000000</td>\n",
       "      <td>0.000000</td>\n",
       "      <td>98033.000000</td>\n",
       "      <td>47.471000</td>\n",
       "      <td>-122.328000</td>\n",
       "      <td>1490.000000</td>\n",
       "      <td>5100.000000</td>\n",
       "    </tr>\n",
       "    <tr>\n",
       "      <th>50%</th>\n",
       "      <td>3.904930e+09</td>\n",
       "      <td>4.500000e+05</td>\n",
       "      <td>3.000000</td>\n",
       "      <td>2.250000</td>\n",
       "      <td>1910.000000</td>\n",
       "      <td>7.618000e+03</td>\n",
       "      <td>1.500000</td>\n",
       "      <td>0.000000</td>\n",
       "      <td>0.000000</td>\n",
       "      <td>3.000000</td>\n",
       "      <td>7.000000</td>\n",
       "      <td>1560.000000</td>\n",
       "      <td>0.000000</td>\n",
       "      <td>1975.000000</td>\n",
       "      <td>0.000000</td>\n",
       "      <td>98065.000000</td>\n",
       "      <td>47.571800</td>\n",
       "      <td>-122.230000</td>\n",
       "      <td>1840.000000</td>\n",
       "      <td>7620.000000</td>\n",
       "    </tr>\n",
       "    <tr>\n",
       "      <th>75%</th>\n",
       "      <td>7.308900e+09</td>\n",
       "      <td>6.450000e+05</td>\n",
       "      <td>4.000000</td>\n",
       "      <td>2.500000</td>\n",
       "      <td>2550.000000</td>\n",
       "      <td>1.068800e+04</td>\n",
       "      <td>2.000000</td>\n",
       "      <td>0.000000</td>\n",
       "      <td>0.000000</td>\n",
       "      <td>4.000000</td>\n",
       "      <td>8.000000</td>\n",
       "      <td>2210.000000</td>\n",
       "      <td>560.000000</td>\n",
       "      <td>1997.000000</td>\n",
       "      <td>0.000000</td>\n",
       "      <td>98118.000000</td>\n",
       "      <td>47.678000</td>\n",
       "      <td>-122.125000</td>\n",
       "      <td>2360.000000</td>\n",
       "      <td>10083.000000</td>\n",
       "    </tr>\n",
       "    <tr>\n",
       "      <th>max</th>\n",
       "      <td>9.900000e+09</td>\n",
       "      <td>7.700000e+06</td>\n",
       "      <td>33.000000</td>\n",
       "      <td>8.000000</td>\n",
       "      <td>13540.000000</td>\n",
       "      <td>1.651359e+06</td>\n",
       "      <td>3.500000</td>\n",
       "      <td>1.000000</td>\n",
       "      <td>4.000000</td>\n",
       "      <td>5.000000</td>\n",
       "      <td>13.000000</td>\n",
       "      <td>9410.000000</td>\n",
       "      <td>4820.000000</td>\n",
       "      <td>2015.000000</td>\n",
       "      <td>2015.000000</td>\n",
       "      <td>98199.000000</td>\n",
       "      <td>47.777600</td>\n",
       "      <td>-121.315000</td>\n",
       "      <td>6210.000000</td>\n",
       "      <td>871200.000000</td>\n",
       "    </tr>\n",
       "  </tbody>\n",
       "</table>\n",
       "</div>"
      ],
      "text/plain": [
       "                 id         price      bedrooms     bathrooms   sqft_living  \\\n",
       "count  2.161300e+04  2.161300e+04  21613.000000  21613.000000  21613.000000   \n",
       "mean   4.580302e+09  5.401822e+05      3.370842      2.114757   2079.899736   \n",
       "std    2.876566e+09  3.673622e+05      0.930062      0.770163    918.440897   \n",
       "min    1.000102e+06  7.500000e+04      0.000000      0.000000    290.000000   \n",
       "25%    2.123049e+09  3.219500e+05      3.000000      1.750000   1427.000000   \n",
       "50%    3.904930e+09  4.500000e+05      3.000000      2.250000   1910.000000   \n",
       "75%    7.308900e+09  6.450000e+05      4.000000      2.500000   2550.000000   \n",
       "max    9.900000e+09  7.700000e+06     33.000000      8.000000  13540.000000   \n",
       "\n",
       "           sqft_lot        floors    waterfront          view     condition  \\\n",
       "count  2.161300e+04  21613.000000  21613.000000  21613.000000  21613.000000   \n",
       "mean   1.510697e+04      1.494309      0.007542      0.234303      3.409430   \n",
       "std    4.142051e+04      0.539989      0.086517      0.766318      0.650743   \n",
       "min    5.200000e+02      1.000000      0.000000      0.000000      1.000000   \n",
       "25%    5.040000e+03      1.000000      0.000000      0.000000      3.000000   \n",
       "50%    7.618000e+03      1.500000      0.000000      0.000000      3.000000   \n",
       "75%    1.068800e+04      2.000000      0.000000      0.000000      4.000000   \n",
       "max    1.651359e+06      3.500000      1.000000      4.000000      5.000000   \n",
       "\n",
       "              grade    sqft_above  sqft_basement      yr_built  yr_renovated  \\\n",
       "count  21613.000000  21613.000000   21613.000000  21613.000000  21613.000000   \n",
       "mean       7.656873   1788.390691     291.509045   1971.005136     84.402258   \n",
       "std        1.175459    828.090978     442.575043     29.373411    401.679240   \n",
       "min        1.000000    290.000000       0.000000   1900.000000      0.000000   \n",
       "25%        7.000000   1190.000000       0.000000   1951.000000      0.000000   \n",
       "50%        7.000000   1560.000000       0.000000   1975.000000      0.000000   \n",
       "75%        8.000000   2210.000000     560.000000   1997.000000      0.000000   \n",
       "max       13.000000   9410.000000    4820.000000   2015.000000   2015.000000   \n",
       "\n",
       "            zipcode           lat          long  sqft_living15     sqft_lot15  \n",
       "count  21613.000000  21613.000000  21613.000000   21613.000000   21613.000000  \n",
       "mean   98077.939805     47.560053   -122.213896    1986.552492   12768.455652  \n",
       "std       53.505026      0.138564      0.140828     685.391304   27304.179631  \n",
       "min    98001.000000     47.155900   -122.519000     399.000000     651.000000  \n",
       "25%    98033.000000     47.471000   -122.328000    1490.000000    5100.000000  \n",
       "50%    98065.000000     47.571800   -122.230000    1840.000000    7620.000000  \n",
       "75%    98118.000000     47.678000   -122.125000    2360.000000   10083.000000  \n",
       "max    98199.000000     47.777600   -121.315000    6210.000000  871200.000000  "
      ]
     },
     "execution_count": 247,
     "metadata": {},
     "output_type": "execute_result"
    }
   ],
   "source": [
    "#Getting some statistics about the data\n",
    "data.describe()"
   ]
  },
  {
   "cell_type": "code",
   "execution_count": 248,
   "metadata": {},
   "outputs": [
    {
     "data": {
      "text/plain": [
       "id               21436\n",
       "price             3625\n",
       "bedrooms            13\n",
       "bathrooms           30\n",
       "sqft_living       1038\n",
       "sqft_lot          9782\n",
       "floors               6\n",
       "waterfront           2\n",
       "view                 5\n",
       "condition            5\n",
       "grade               12\n",
       "sqft_above         946\n",
       "sqft_basement      306\n",
       "yr_built           116\n",
       "yr_renovated        70\n",
       "zipcode             70\n",
       "lat               5034\n",
       "long               752\n",
       "sqft_living15      777\n",
       "sqft_lot15        8689\n",
       "dtype: int64"
      ]
     },
     "execution_count": 248,
     "metadata": {},
     "output_type": "execute_result"
    }
   ],
   "source": [
    "data.nunique()"
   ]
  },
  {
   "cell_type": "markdown",
   "metadata": {},
   "source": [
    "# Data Preparation"
   ]
  },
  {
   "cell_type": "code",
   "execution_count": 249,
   "metadata": {},
   "outputs": [
    {
     "data": {
      "text/plain": [
       "id               0\n",
       "price            0\n",
       "bedrooms         0\n",
       "bathrooms        0\n",
       "sqft_living      0\n",
       "sqft_lot         0\n",
       "floors           0\n",
       "waterfront       0\n",
       "view             0\n",
       "condition        0\n",
       "grade            0\n",
       "sqft_above       0\n",
       "sqft_basement    0\n",
       "yr_built         0\n",
       "yr_renovated     0\n",
       "zipcode          0\n",
       "lat              0\n",
       "long             0\n",
       "sqft_living15    0\n",
       "sqft_lot15       0\n",
       "dtype: int64"
      ]
     },
     "execution_count": 249,
     "metadata": {},
     "output_type": "execute_result"
    }
   ],
   "source": [
    "#Checking for nulls\n",
    "data.isnull().sum()\n"
   ]
  },
  {
   "cell_type": "code",
   "execution_count": 250,
   "metadata": {},
   "outputs": [
    {
     "data": {
      "text/plain": [
       "3"
      ]
     },
     "execution_count": 250,
     "metadata": {},
     "output_type": "execute_result"
    }
   ],
   "source": [
    "#Checking for duplicates\n",
    "data.duplicated().sum()"
   ]
  },
  {
   "cell_type": "code",
   "execution_count": 251,
   "metadata": {},
   "outputs": [],
   "source": [
    "#Dropping Duplicates\n",
    "data.drop_duplicates(keep='first', inplace=True)"
   ]
  },
  {
   "cell_type": "code",
   "execution_count": 252,
   "metadata": {},
   "outputs": [
    {
     "data": {
      "image/png": "[encoded data removed]",
      "text/plain": [
       "<Figure size 1152x1728 with 12 Axes>"
      ]
     },
     "metadata": {
      "needs_background": "light"
     },
     "output_type": "display_data"
    }
   ],
   "source": [
    "#Checking for outliers\n",
    "fig, ((ax1, ax2), (ax3, ax4),(ax5, ax6), (ax7, ax8),(ax9, ax10), (ax11, ax12)) = plt.subplots(6, 2,figsize=(16,24))\n",
    "sns.boxplot(y=data['price'], ax=ax1)\n",
    "sns.boxplot(y=data['bedrooms'], ax=ax2)\n",
    "sns.boxplot(y=data['bathrooms'], ax=ax3)\n",
    "sns.boxplot(y=data['sqft_living'], ax=ax4)\n",
    "sns.boxplot(y=data['sqft_lot'], ax=ax5)\n",
    "sns.boxplot(y=data['floors'], ax=ax6)\n",
    "sns.boxplot(y=data['condition'], ax=ax7)\n",
    "sns.boxplot(y=data['grade'], ax=ax8)\n",
    "sns.boxplot(y=data['sqft_above'], ax=ax9)\n",
    "sns.boxplot(y=data['sqft_basement'], ax=ax10)\n",
    "sns.boxplot(y=data['sqft_living15'], ax=ax11)\n",
    "sns.boxplot(y=data['sqft_lot15'], ax=ax12)\n",
    "    \n",
    "plt.show()"
   ]
  },
  {
   "cell_type": "code",
   "execution_count": 253,
   "metadata": {},
   "outputs": [
    {
     "name": "stdout",
     "output_type": "stream",
     "text": [
      "Old data shape:  (21610, 20)\n",
      "New dataset shape:  (14935, 20)\n",
      "Rows of outliers removed:  6675\n"
     ]
    }
   ],
   "source": [
    "# Determining how many rows would be lost if outliers were removed\n",
    "\n",
    "# Calculating our first, third quantiles and then later our IQR\n",
    "# ---\n",
    "Q1 = data.quantile(0.25)\n",
    "Q3 = data.quantile(0.75)\n",
    "IQR = Q3 - Q1\n",
    "\n",
    "# Removing outliers based on the IQR range and stores the result in the data frame 'auto'\n",
    "# ---\n",
    "# \n",
    "data_nout = data[~((data < (Q1 - 1.5 * IQR)) | (data > (Q3 + 1.5 * IQR))).any(axis=1)]\n",
    "\n",
    "# Printing the shape datasets\n",
    "print(\"Old data shape: \",data.shape)\n",
    "\n",
    "print(\"New dataset shape: \",data_nout.shape)\n",
    "\n",
    "# Number of rows removed\n",
    "\n",
    "print(\"Rows of outliers removed: \",data.shape[0] - data_nout.shape[0])\n"
   ]
  },
  {
   "cell_type": "code",
   "execution_count": 254,
   "metadata": {},
   "outputs": [
    {
     "data": {
      "image/png": "[encoded data removed]",
      "text/plain": [
       "<Figure size 1152x1728 with 12 Axes>"
      ]
     },
     "metadata": {
      "needs_background": "light"
     },
     "output_type": "display_data"
    }
   ],
   "source": [
    "fig, ((ax1, ax2), (ax3, ax4),(ax5, ax6), (ax7, ax8),(ax9, ax10), (ax11, ax12)) = plt.subplots(6, 2,figsize=(16,24))\n",
    "sns.boxplot(y=data_nout['price'], ax=ax1)\n",
    "sns.boxplot(y=data_nout['bedrooms'], ax=ax2)\n",
    "sns.boxplot(y=data_nout['bathrooms'], ax=ax3)\n",
    "sns.boxplot(y=data_nout['sqft_living'], ax=ax4)\n",
    "sns.boxplot(y=data_nout['sqft_lot'], ax=ax5)\n",
    "sns.boxplot(y=data_nout['floors'], ax=ax6)\n",
    "sns.boxplot(y=data_nout['condition'], ax=ax7)\n",
    "sns.boxplot(y=data_nout['grade'], ax=ax8)\n",
    "sns.boxplot(y=data_nout['sqft_above'], ax=ax9)\n",
    "sns.boxplot(y=data_nout['sqft_basement'], ax=ax10)\n",
    "sns.boxplot(y=data_nout['sqft_living15'], ax=ax11)\n",
    "sns.boxplot(y=data_nout['sqft_lot15'], ax=ax12)\n",
    "    \n",
    "plt.show()"
   ]
  },
  {
   "cell_type": "markdown",
   "metadata": {},
   "source": [
    "# Regression Models"
   ]
  },
  {
   "cell_type": "markdown",
   "metadata": {},
   "source": [
    "## Multiple Linear Regression."
   ]
  },
  {
   "cell_type": "code",
   "execution_count": 255,
   "metadata": {},
   "outputs": [],
   "source": [
    "#Preparing the data\n",
    "X = data_nout.drop(['price'],axis=1)\n",
    "y = data_nout['price']"
   ]
  },
  {
   "cell_type": "code",
   "execution_count": 256,
   "metadata": {},
   "outputs": [],
   "source": [
    "#Splitting Data into Training and Test Set\n",
    "from sklearn.model_selection import train_test_split\n",
    "X_train, X_test, y_train, y_test = train_test_split(X, y, test_size=0.2, random_state=0)"
   ]
  },
  {
   "cell_type": "code",
   "execution_count": 257,
   "metadata": {},
   "outputs": [
    {
     "data": {
      "text/plain": [
       "LinearRegression()"
      ]
     },
     "execution_count": 257,
     "metadata": {},
     "output_type": "execute_result"
    }
   ],
   "source": [
    "#Fiting the data\n",
    "from sklearn.linear_model import LinearRegression\n",
    "regressor = LinearRegression()\n",
    "regressor.fit(X_train, y_train)"
   ]
  },
  {
   "cell_type": "code",
   "execution_count": 258,
   "metadata": {},
   "outputs": [
    {
     "data": {
      "text/html": [
       "<div>\n",
       "<style scoped>\n",
       "    .dataframe tbody tr th:only-of-type {\n",
       "        vertical-align: middle;\n",
       "    }\n",
       "\n",
       "    .dataframe tbody tr th {\n",
       "        vertical-align: top;\n",
       "    }\n",
       "\n",
       "    .dataframe thead th {\n",
       "        text-align: right;\n",
       "    }\n",
       "</style>\n",
       "<table border=\"1\" class=\"dataframe\">\n",
       "  <thead>\n",
       "    <tr style=\"text-align: right;\">\n",
       "      <th></th>\n",
       "      <th>Actual</th>\n",
       "      <th>Predicted</th>\n",
       "    </tr>\n",
       "  </thead>\n",
       "  <tbody>\n",
       "    <tr>\n",
       "      <th>5932</th>\n",
       "      <td>377500.0</td>\n",
       "      <td>259106.508232</td>\n",
       "    </tr>\n",
       "    <tr>\n",
       "      <th>2642</th>\n",
       "      <td>190000.0</td>\n",
       "      <td>153693.619752</td>\n",
       "    </tr>\n",
       "    <tr>\n",
       "      <th>19773</th>\n",
       "      <td>399000.0</td>\n",
       "      <td>418566.191596</td>\n",
       "    </tr>\n",
       "    <tr>\n",
       "      <th>20532</th>\n",
       "      <td>550000.0</td>\n",
       "      <td>232316.671515</td>\n",
       "    </tr>\n",
       "    <tr>\n",
       "      <th>15458</th>\n",
       "      <td>208000.0</td>\n",
       "      <td>147464.291046</td>\n",
       "    </tr>\n",
       "    <tr>\n",
       "      <th>...</th>\n",
       "      <td>...</td>\n",
       "      <td>...</td>\n",
       "    </tr>\n",
       "    <tr>\n",
       "      <th>10777</th>\n",
       "      <td>630000.0</td>\n",
       "      <td>535412.346067</td>\n",
       "    </tr>\n",
       "    <tr>\n",
       "      <th>2094</th>\n",
       "      <td>248000.0</td>\n",
       "      <td>299511.752136</td>\n",
       "    </tr>\n",
       "    <tr>\n",
       "      <th>14814</th>\n",
       "      <td>545000.0</td>\n",
       "      <td>539422.001304</td>\n",
       "    </tr>\n",
       "    <tr>\n",
       "      <th>16271</th>\n",
       "      <td>341000.0</td>\n",
       "      <td>398708.906606</td>\n",
       "    </tr>\n",
       "    <tr>\n",
       "      <th>3710</th>\n",
       "      <td>361000.0</td>\n",
       "      <td>425628.377058</td>\n",
       "    </tr>\n",
       "  </tbody>\n",
       "</table>\n",
       "<p>2987 rows × 2 columns</p>\n",
       "</div>"
      ],
      "text/plain": [
       "         Actual      Predicted\n",
       "5932   377500.0  259106.508232\n",
       "2642   190000.0  153693.619752\n",
       "19773  399000.0  418566.191596\n",
       "20532  550000.0  232316.671515\n",
       "15458  208000.0  147464.291046\n",
       "...         ...            ...\n",
       "10777  630000.0  535412.346067\n",
       "2094   248000.0  299511.752136\n",
       "14814  545000.0  539422.001304\n",
       "16271  341000.0  398708.906606\n",
       "3710   361000.0  425628.377058\n",
       "\n",
       "[2987 rows x 2 columns]"
      ]
     },
     "execution_count": 258,
     "metadata": {},
     "output_type": "execute_result"
    }
   ],
   "source": [
    "#Predictions\n",
    "y_pred = regressor.predict(X_test)\n",
    "\n",
    "# To compare the actual output values for X_test with the predicted values\n",
    "# \n",
    "df = pd.DataFrame({'Actual': y_test, 'Predicted': y_pred})\n",
    "df"
   ]
  },
  {
   "cell_type": "code",
   "execution_count": 259,
   "metadata": {},
   "outputs": [
    {
     "name": "stdout",
     "output_type": "stream",
     "text": [
      "R2 score: 0.6479341949456594\n",
      "MSE: 11340881063.399134\n"
     ]
    }
   ],
   "source": [
    "#R2 Score\n",
    "from sklearn.metrics import r2_score, mean_squared_error\n",
    "print(f\"R2 score: {r2_score(y_test, y_pred)}\")\n",
    "print(f\"MSE: {mean_squared_error(y_test, y_pred)}\")"
   ]
  },
  {
   "cell_type": "markdown",
   "metadata": {},
   "source": [
    "### Linear regression scores to compare with other regression methods\n",
    "1. R2 score: 0.6479341949456594\n",
    "2. MSE: 11340881063.399134"
   ]
  },
  {
   "cell_type": "markdown",
   "metadata": {},
   "source": [
    "## Barlett's Test\n"
   ]
  },
  {
   "cell_type": "code",
   "execution_count": 260,
   "metadata": {},
   "outputs": [
    {
     "name": "stdout",
     "output_type": "stream",
     "text": [
      "Test Result is less than the Critical Value hence the variances are homogeneous\n"
     ]
    }
   ],
   "source": [
    "\n",
    "# Bartlett's test\n",
    "\n",
    "import scipy as sp\n",
    "residuals = y_pred - y_test\n",
    "test_result, p_value = sp.stats.bartlett(y_pred, residuals)\n",
    "\n",
    "# Computing critical value\n",
    "degree_of_freedom = len(y_pred)-1\n",
    "probability = 1 - p_value\n",
    "\n",
    "critical_value = sp.stats.chi2.ppf(probability, degree_of_freedom)\n",
    "\n",
    "\n",
    "\n",
    "if (test_result > critical_value):\n",
    "  print('the variances are unequal, and the model should be reassessed')\n",
    "else:\n",
    "  print('Test Result is less than the Critical Value hence the variances are homogeneous')"
   ]
  },
  {
   "cell_type": "markdown",
   "metadata": {},
   "source": [
    "## Lasso Regression"
   ]
  },
  {
   "cell_type": "code",
   "execution_count": 261,
   "metadata": {},
   "outputs": [],
   "source": [
    "#Lasso Object\n",
    "from sklearn import linear_model\n",
    "lasso = linear_model.Lasso(normalize=True)"
   ]
  },
  {
   "cell_type": "code",
   "execution_count": 262,
   "metadata": {},
   "outputs": [
    {
     "name": "stdout",
     "output_type": "stream",
     "text": [
      "lasso score: 0.6544628475819029\n",
      "lasso MSE: 11266189473.755194\n",
      "lasso coef: [ 2.43211171e-07 -8.71249273e+03  1.56942471e+04  8.53699694e+01\n",
      " -2.63797324e+00  1.28609030e+04  0.00000000e+00  0.00000000e+00\n",
      "  2.79184363e+04  7.73333777e+04  4.06035051e+00  0.00000000e+00\n",
      " -1.93257232e+03  0.00000000e+00 -2.55285508e+02  5.37946296e+05\n",
      " -9.15127254e+02  4.99008064e+01 -5.51764717e+00]\n"
     ]
    }
   ],
   "source": [
    "#Fit the model and scores\n",
    "lasso.fit(X, y) \n",
    "\n",
    "\n",
    "print(\"lasso score:\", lasso.score(X, y)) \n",
    "print(\"lasso MSE:\", mean_squared_error(y, lasso.predict(X))) \n",
    "print(\"lasso coef:\", lasso.coef_)"
   ]
  },
  {
   "cell_type": "code",
   "execution_count": 263,
   "metadata": {},
   "outputs": [
    {
     "name": "stdout",
     "output_type": "stream",
     "text": [
      "Best Lasso Parameters are :: {'alpha': 2.5}\n",
      "The lasso score is : 0.6479629396206148\n",
      "The linear score: 0.6479341949456594\n",
      "lasso MSE: 11339955128.715347\n",
      "linear MSE: 11340881063.399134\n",
      "lasso best estimator coef: [ 5.60457040e-07 -8.01247841e+03  1.75837343e+04  8.34225485e+01\n",
      " -2.68163171e+00  1.43902290e+04  0.00000000e+00  0.00000000e+00\n",
      "  2.69814985e+04  7.75937687e+04  3.34944452e+00  0.00000000e+00\n",
      " -1.94943167e+03  0.00000000e+00 -2.44958975e+02  5.32355397e+05\n",
      " -0.00000000e+00  4.90094433e+01 -5.17941100e+00]\n",
      "linear coef: [ 6.44957633e-07 -8.99661384e+03  1.84158998e+04  5.71315351e+01\n",
      " -2.75087002e+00  1.48405861e+04  2.71711542e-11  1.93267624e-11\n",
      "  2.72662174e+04  7.76224461e+04  3.05374586e+01  2.65940764e+01\n",
      " -1.98076183e+03 -5.09317033e-11 -2.58206253e+02  5.33900512e+05\n",
      " -2.84725126e+03  4.93133674e+01 -5.18908901e+00]\n"
     ]
    }
   ],
   "source": [
    "from sklearn.model_selection import GridSearchCV\n",
    "#regularization parameter\n",
    "parameters = {'alpha': np.concatenate((np.arange(0.1,2,0.1), np.arange(2, 5, 0.5), np.arange(5, 25, 1)))}\n",
    "# Initializing  lasso\n",
    "linear = linear_model.LinearRegression()\n",
    "lasso = linear_model.Lasso(normalize=True,max_iter=20000) \n",
    "gridlasso = GridSearchCV(lasso, parameters, scoring ='r2') \n",
    "# Fitting models \n",
    "gridlasso.fit(X_train, y_train) \n",
    "linear.fit(X_train, y_train) \n",
    "print(\"Best Lasso Parameters are ::\", gridlasso.best_params_) \n",
    "print(\"The lasso score is :\", gridlasso.score(X_test, y_test))\n",
    "print(\"The linear score:\", linear.score(X_test, y_test)) \n",
    "print(\"lasso MSE:\", mean_squared_error(y_test, gridlasso.predict(X_test)))\n",
    "print(\"linear MSE:\", mean_squared_error(y_test, linear.predict(X_test))) \n",
    "print(\"lasso best estimator coef:\", gridlasso.best_estimator_.coef_)\n",
    "print(\"linear coef:\", linear.coef_)"
   ]
  },
  {
   "cell_type": "markdown",
   "metadata": {},
   "source": [
    "## Ridge Regression"
   ]
  },
  {
   "cell_type": "code",
   "execution_count": 264,
   "metadata": {},
   "outputs": [
    {
     "name": "stdout",
     "output_type": "stream",
     "text": [
      "The MSE for this model is :  11265882048.43807\n"
     ]
    }
   ],
   "source": [
    "# Creating our linear regression model for the purpose of comparison\n",
    "# \n",
    "regression=LinearRegression()\n",
    "regression.fit(X,y)\n",
    "first_model=(mean_squared_error(y_true=y,y_pred=regression.predict(X)))\n",
    "print(\"The MSE for this model is : \",first_model) "
   ]
  },
  {
   "cell_type": "code",
   "execution_count": 265,
   "metadata": {},
   "outputs": [],
   "source": [
    "#Import libraries for Ridge Regression\n",
    "\n",
    "from sklearn.model_selection import GridSearchCV\n",
    "from sklearn.linear_model import Ridge\n",
    "from sklearn.metrics import mean_squared_error\n",
    "# Creating ridge model\n",
    "ridge = Ridge(normalize=True)\n",
    "# Setting up grid to be used\n",
    "search = GridSearchCV(estimator=ridge, param_grid={'alpha':np.logspace(-5,2,8)},\n",
    "                      scoring='neg_mean_squared_error',n_jobs=1,refit=True,cv=10)"
   ]
  },
  {
   "cell_type": "code",
   "execution_count": 266,
   "metadata": {},
   "outputs": [
    {
     "data": {
      "text/plain": [
       "{'alpha': 0.01}"
      ]
     },
     "execution_count": 266,
     "metadata": {},
     "output_type": "execute_result"
    }
   ],
   "source": [
    "# We now use the .fit function to run the model and then use the .best_params_ and\n",
    "#  .best_scores_ function to determine the models strength. \n",
    "search.fit(X,y)\n",
    "search.best_params_\n",
    "\n",
    "\n"
   ]
  },
  {
   "cell_type": "code",
   "execution_count": 267,
   "metadata": {},
   "outputs": [
    {
     "name": "stdout",
     "output_type": "stream",
     "text": [
      "The MSE for this model is :  11265882050.546537\n"
     ]
    }
   ],
   "source": [
    "#fitting our model with the ridge information and finding the mean squared error\n",
    "ridge = Ridge(normalize=True,alpha=1e-05)\n",
    "ridge.fit(X, y)\n",
    "second_model = (mean_squared_error(y_true=y, y_pred=ridge.predict(X)))\n",
    "print(\"The MSE for this model is : \",second_model)"
   ]
  },
  {
   "cell_type": "code",
   "execution_count": 268,
   "metadata": {},
   "outputs": [
    {
     "data": {
      "text/plain": [
       "{'id': 2.835060675660127e-07,\n",
       " 'bedrooms': -9159.361087973884,\n",
       " 'bathrooms': 16083.816384414577,\n",
       " 'sqft_living': 49.95334088329094,\n",
       " 'sqft_lot': -2.6664853632794836,\n",
       " 'floors': 13035.755794590512,\n",
       " 'waterfront': 0.0,\n",
       " 'view': 0.0,\n",
       " 'condition': 28057.3776199566,\n",
       " 'grade': 77309.055911439,\n",
       " 'sqft_above': 39.92071525147647,\n",
       " 'sqft_basement': 35.514499100586384,\n",
       " 'yr_built': -1945.239059446716,\n",
       " 'yr_renovated': 0.0,\n",
       " 'zipcode': -262.25831387852276,\n",
       " 'lat': 538720.4647242178,\n",
       " 'long': -3361.1938126864097,\n",
       " 'sqft_living15': 50.09257414726171,\n",
       " 'sqft_lot15': -5.521337421680643}"
      ]
     },
     "execution_count": 268,
     "metadata": {},
     "output_type": "execute_result"
    }
   ],
   "source": [
    "# Getting coefficients\n",
    "coef_dict_baseline = {}\n",
    "for coef, feat in zip(ridge.coef_, X.columns):\n",
    "    coef_dict_baseline[feat] = coef\n",
    "coef_dict_baseline"
   ]
  },
  {
   "cell_type": "markdown",
   "metadata": {},
   "source": [
    "## Elasic Net Regression\n"
   ]
  },
  {
   "cell_type": "code",
   "execution_count": 269,
   "metadata": {},
   "outputs": [],
   "source": [
    "from sklearn.linear_model import ElasticNet"
   ]
  },
  {
   "cell_type": "code",
   "execution_count": 270,
   "metadata": {},
   "outputs": [
    {
     "name": "stdout",
     "output_type": "stream",
     "text": [
      "The MSE for this model is :  11265882048.43807\n"
     ]
    }
   ],
   "source": [
    "\n",
    "# Creating our linear regression model for the purpose of comparison\n",
    "# \n",
    "regression=LinearRegression()\n",
    "regression.fit(X,y)\n",
    "first_model=(mean_squared_error(y_true=y,y_pred=regression.predict(X)))\n",
    "print(\"The MSE for this model is : \",first_model) "
   ]
  },
  {
   "cell_type": "code",
   "execution_count": 271,
   "metadata": {},
   "outputs": [
    {
     "data": {
      "text/plain": [
       "{'id': 2.834893584455535e-07,\n",
       " 'bedrooms': -9159.805223285326,\n",
       " 'bathrooms': 16084.309164687229,\n",
       " 'sqft_living': 58.44740957064151,\n",
       " 'sqft_lot': -2.66645114002218,\n",
       " 'floors': 13035.837254023545,\n",
       " 'waterfront': -1.3691874301002827e-09,\n",
       " 'view': -3.7493208537853207e-10,\n",
       " 'condition': 28057.219848181194,\n",
       " 'grade': 77310.38380661565,\n",
       " 'sqft_above': 31.426979390144734,\n",
       " 'sqft_basement': 27.020430174265062,\n",
       " 'yr_built': -1945.2900947144822,\n",
       " 'yr_renovated': 4.3655745685100555e-11,\n",
       " 'zipcode': -262.2685094345614,\n",
       " 'lat': 538724.5573773129,\n",
       " 'long': -3359.7642029613453,\n",
       " 'sqft_living15': 50.09212499634555,\n",
       " 'sqft_lot15': -5.521441116394271}"
      ]
     },
     "execution_count": 271,
     "metadata": {},
     "output_type": "execute_result"
    }
   ],
   "source": [
    "# coefficients of this first model.\n",
    "# \n",
    "coef_dict_baseline = {}\n",
    "for coef, feat in zip(regression.coef_,X.columns):\n",
    "    coef_dict_baseline[feat] = coef\n",
    "coef_dict_baseline"
   ]
  },
  {
   "cell_type": "code",
   "execution_count": 272,
   "metadata": {},
   "outputs": [],
   "source": [
    "#Elastic Net Model\n",
    "elastic=ElasticNet(normalize=True)\n",
    "search=GridSearchCV(estimator=elastic,param_grid={'alpha':np.logspace(-5,2,8),'l1_ratio':[.2,.4,.6,.8]},scoring='neg_mean_squared_error',n_jobs=1,refit=True,cv=10)"
   ]
  },
  {
   "cell_type": "code",
   "execution_count": 273,
   "metadata": {},
   "outputs": [
    {
     "data": {
      "text/plain": [
       "{'alpha': 1e-05, 'l1_ratio': 0.8}"
      ]
     },
     "execution_count": 273,
     "metadata": {},
     "output_type": "execute_result"
    }
   ],
   "source": [
    "# We will now fit our model and display the best parameters and the best results we can get with that setup.\n",
    "# \n",
    "search.fit(X,y)\n",
    "search.best_params_\n"
   ]
  },
  {
   "cell_type": "code",
   "execution_count": 274,
   "metadata": {},
   "outputs": [
    {
     "name": "stdout",
     "output_type": "stream",
     "text": [
      "The MSE for this model is  11282603022.35343\n"
     ]
    }
   ],
   "source": [
    "#setting alpha to 1e-05 and l1ratio to 0.8\n",
    "elastic=ElasticNet(normalize=True,alpha=1e-05,l1_ratio=0.8)\n",
    "elastic.fit(X,y)\n",
    "second_model=(mean_squared_error(y_true=y,y_pred=elastic.predict(X)))\n",
    "print(\"The MSE for this model is \",second_model)"
   ]
  },
  {
   "cell_type": "code",
   "execution_count": 275,
   "metadata": {},
   "outputs": [
    {
     "data": {
      "text/plain": [
       "{'id': 3.285361651283784e-07,\n",
       " 'bedrooms': -7914.718718366093,\n",
       " 'bathrooms': 14882.278718879046,\n",
       " 'sqft_living': 49.49154623614601,\n",
       " 'sqft_lot': -2.7380413134947172,\n",
       " 'floors': 12823.187580302452,\n",
       " 'waterfront': 0.0,\n",
       " 'view': 0.0,\n",
       " 'condition': 28382.512082347534,\n",
       " 'grade': 73653.24163180243,\n",
       " 'sqft_above': 39.32364305149993,\n",
       " 'sqft_basement': 35.846808486614314,\n",
       " 'yr_built': -1806.4437277958996,\n",
       " 'yr_renovated': 0.0,\n",
       " 'zipcode': -233.75309260979478,\n",
       " 'lat': 526553.98548781,\n",
       " 'long': -6969.256637846103,\n",
       " 'sqft_living15': 51.1600969300154,\n",
       " 'sqft_lot15': -5.245228719085161}"
      ]
     },
     "execution_count": 275,
     "metadata": {},
     "output_type": "execute_result"
    }
   ],
   "source": [
    "# Below are the coefficients\n",
    "# \n",
    "coef_dict_baseline = {}\n",
    "for coef, feat in zip(elastic.coef_,X.columns):\n",
    "    coef_dict_baseline[feat] = coef\n",
    "coef_dict_baseline"
   ]
  },
  {
   "cell_type": "markdown",
   "metadata": {},
   "source": [
    "An MSE of 11282603022.35 is bigger than that for the linear regression. This means that  Elastic Net is doing worse than linear regression. "
   ]
  },
  {
   "cell_type": "markdown",
   "metadata": {},
   "source": [
    "## Quantile Regression"
   ]
  },
  {
   "cell_type": "markdown",
   "metadata": {},
   "source": [
    "### Summarize Linear Regression to compare with Quantile Regression using statsmodel"
   ]
  },
  {
   "cell_type": "code",
   "execution_count": 276,
   "metadata": {},
   "outputs": [
    {
     "data": {
      "text/html": [
       "<table class=\"simpletable\">\n",
       "<caption>OLS Regression Results</caption>\n",
       "<tr>\n",
       "  <th>Dep. Variable:</th>          <td>price</td>      <th>  R-squared:         </th>  <td>   0.654</td>  \n",
       "</tr>\n",
       "<tr>\n",
       "  <th>Model:</th>                   <td>OLS</td>       <th>  Adj. R-squared:    </th>  <td>   0.654</td>  \n",
       "</tr>\n",
       "<tr>\n",
       "  <th>Method:</th>             <td>Least Squares</td>  <th>  F-statistic:       </th>  <td>   1884.</td>  \n",
       "</tr>\n",
       "<tr>\n",
       "  <th>Date:</th>             <td>Wed, 02 Jun 2021</td> <th>  Prob (F-statistic):</th>   <td>  0.00</td>   \n",
       "</tr>\n",
       "<tr>\n",
       "  <th>Time:</th>                 <td>07:38:41</td>     <th>  Log-Likelihood:    </th> <td>-1.9403e+05</td>\n",
       "</tr>\n",
       "<tr>\n",
       "  <th>No. Observations:</th>      <td> 14935</td>      <th>  AIC:               </th>  <td>3.881e+05</td> \n",
       "</tr>\n",
       "<tr>\n",
       "  <th>Df Residuals:</th>          <td> 14919</td>      <th>  BIC:               </th>  <td>3.882e+05</td> \n",
       "</tr>\n",
       "<tr>\n",
       "  <th>Df Model:</th>              <td>    15</td>      <th>                     </th>      <td> </td>     \n",
       "</tr>\n",
       "<tr>\n",
       "  <th>Covariance Type:</th>      <td>nonrobust</td>    <th>                     </th>      <td> </td>     \n",
       "</tr>\n",
       "</table>\n",
       "<table class=\"simpletable\">\n",
       "<tr>\n",
       "        <td></td>           <th>coef</th>     <th>std err</th>      <th>t</th>      <th>P>|t|</th>  <th>[0.025</th>    <th>0.975]</th>  \n",
       "</tr>\n",
       "<tr>\n",
       "  <th>const</th>         <td> 3.081e+06</td> <td> 1.92e+06</td> <td>    1.602</td> <td> 0.109</td> <td> -6.9e+05</td> <td> 6.85e+06</td>\n",
       "</tr>\n",
       "<tr>\n",
       "  <th>id</th>            <td> 2.835e-07</td> <td> 3.07e-07</td> <td>    0.923</td> <td> 0.356</td> <td>-3.18e-07</td> <td> 8.85e-07</td>\n",
       "</tr>\n",
       "<tr>\n",
       "  <th>bedrooms</th>      <td>-9159.8052</td> <td> 1475.777</td> <td>   -6.207</td> <td> 0.000</td> <td>-1.21e+04</td> <td>-6267.101</td>\n",
       "</tr>\n",
       "<tr>\n",
       "  <th>bathrooms</th>     <td> 1.608e+04</td> <td> 2323.095</td> <td>    6.924</td> <td> 0.000</td> <td> 1.15e+04</td> <td> 2.06e+04</td>\n",
       "</tr>\n",
       "<tr>\n",
       "  <th>sqft_living</th>   <td>   58.4473</td> <td>    1.868</td> <td>   31.286</td> <td> 0.000</td> <td>   54.786</td> <td>   62.109</td>\n",
       "</tr>\n",
       "<tr>\n",
       "  <th>sqft_lot</th>      <td>   -2.6665</td> <td>    0.563</td> <td>   -4.737</td> <td> 0.000</td> <td>   -3.770</td> <td>   -1.563</td>\n",
       "</tr>\n",
       "<tr>\n",
       "  <th>floors</th>        <td> 1.304e+04</td> <td> 2651.779</td> <td>    4.916</td> <td> 0.000</td> <td> 7838.025</td> <td> 1.82e+04</td>\n",
       "</tr>\n",
       "<tr>\n",
       "  <th>waterfront</th>    <td>-2.709e-06</td> <td> 1.69e-06</td> <td>   -1.601</td> <td> 0.109</td> <td>-6.02e-06</td> <td> 6.07e-07</td>\n",
       "</tr>\n",
       "<tr>\n",
       "  <th>view</th>          <td>-2.059e-06</td> <td> 1.29e-06</td> <td>   -1.601</td> <td> 0.109</td> <td>-4.58e-06</td> <td> 4.61e-07</td>\n",
       "</tr>\n",
       "<tr>\n",
       "  <th>condition</th>     <td> 2.806e+04</td> <td> 1522.847</td> <td>   18.424</td> <td> 0.000</td> <td> 2.51e+04</td> <td>  3.1e+04</td>\n",
       "</tr>\n",
       "<tr>\n",
       "  <th>grade</th>         <td> 7.731e+04</td> <td> 1652.990</td> <td>   46.770</td> <td> 0.000</td> <td> 7.41e+04</td> <td> 8.06e+04</td>\n",
       "</tr>\n",
       "<tr>\n",
       "  <th>sqft_above</th>    <td>   31.4271</td> <td>    1.821</td> <td>   17.261</td> <td> 0.000</td> <td>   27.858</td> <td>   34.996</td>\n",
       "</tr>\n",
       "<tr>\n",
       "  <th>sqft_basement</th> <td>   27.0205</td> <td>    2.076</td> <td>   13.016</td> <td> 0.000</td> <td>   22.952</td> <td>   31.089</td>\n",
       "</tr>\n",
       "<tr>\n",
       "  <th>yr_built</th>      <td>-1945.2901</td> <td>   48.591</td> <td>  -40.034</td> <td> 0.000</td> <td>-2040.534</td> <td>-1850.046</td>\n",
       "</tr>\n",
       "<tr>\n",
       "  <th>yr_renovated</th>  <td>   3.2e-08</td> <td>    2e-08</td> <td>    1.601</td> <td> 0.109</td> <td>-7.18e-09</td> <td> 7.12e-08</td>\n",
       "</tr>\n",
       "<tr>\n",
       "  <th>zipcode</th>       <td> -262.2685</td> <td>   21.449</td> <td>  -12.228</td> <td> 0.000</td> <td> -304.310</td> <td> -220.227</td>\n",
       "</tr>\n",
       "<tr>\n",
       "  <th>lat</th>           <td> 5.387e+05</td> <td> 6721.062</td> <td>   80.155</td> <td> 0.000</td> <td> 5.26e+05</td> <td> 5.52e+05</td>\n",
       "</tr>\n",
       "<tr>\n",
       "  <th>long</th>          <td>-3359.7642</td> <td> 9748.237</td> <td>   -0.345</td> <td> 0.730</td> <td>-2.25e+04</td> <td> 1.57e+04</td>\n",
       "</tr>\n",
       "<tr>\n",
       "  <th>sqft_living15</th> <td>   50.0921</td> <td>    2.814</td> <td>   17.801</td> <td> 0.000</td> <td>   44.576</td> <td>   55.608</td>\n",
       "</tr>\n",
       "<tr>\n",
       "  <th>sqft_lot15</th>    <td>   -5.5214</td> <td>    0.635</td> <td>   -8.691</td> <td> 0.000</td> <td>   -6.767</td> <td>   -4.276</td>\n",
       "</tr>\n",
       "</table>\n",
       "<table class=\"simpletable\">\n",
       "<tr>\n",
       "  <th>Omnibus:</th>       <td>1899.320</td> <th>  Durbin-Watson:     </th> <td>   1.991</td>\n",
       "</tr>\n",
       "<tr>\n",
       "  <th>Prob(Omnibus):</th>  <td> 0.000</td>  <th>  Jarque-Bera (JB):  </th> <td>4113.821</td>\n",
       "</tr>\n",
       "<tr>\n",
       "  <th>Skew:</th>           <td> 0.775</td>  <th>  Prob(JB):          </th> <td>    0.00</td>\n",
       "</tr>\n",
       "<tr>\n",
       "  <th>Kurtosis:</th>       <td> 5.052</td>  <th>  Cond. No.          </th> <td>4.43e+26</td>\n",
       "</tr>\n",
       "</table><br/><br/>Notes:<br/>[1] Standard Errors assume that the covariance matrix of the errors is correctly specified.<br/>[2] The smallest eigenvalue is 2.32e-30. This might indicate that there are<br/>strong multicollinearity problems or that the design matrix is singular."
      ],
      "text/plain": [
       "<class 'statsmodels.iolib.summary.Summary'>\n",
       "\"\"\"\n",
       "                            OLS Regression Results                            \n",
       "==============================================================================\n",
       "Dep. Variable:                  price   R-squared:                       0.654\n",
       "Model:                            OLS   Adj. R-squared:                  0.654\n",
       "Method:                 Least Squares   F-statistic:                     1884.\n",
       "Date:                Wed, 02 Jun 2021   Prob (F-statistic):               0.00\n",
       "Time:                        07:38:41   Log-Likelihood:            -1.9403e+05\n",
       "No. Observations:               14935   AIC:                         3.881e+05\n",
       "Df Residuals:                   14919   BIC:                         3.882e+05\n",
       "Df Model:                          15                                         \n",
       "Covariance Type:            nonrobust                                         \n",
       "=================================================================================\n",
       "                    coef    std err          t      P>|t|      [0.025      0.975]\n",
       "---------------------------------------------------------------------------------\n",
       "const          3.081e+06   1.92e+06      1.602      0.109    -6.9e+05    6.85e+06\n",
       "id             2.835e-07   3.07e-07      0.923      0.356   -3.18e-07    8.85e-07\n",
       "bedrooms      -9159.8052   1475.777     -6.207      0.000   -1.21e+04   -6267.101\n",
       "bathrooms      1.608e+04   2323.095      6.924      0.000    1.15e+04    2.06e+04\n",
       "sqft_living      58.4473      1.868     31.286      0.000      54.786      62.109\n",
       "sqft_lot         -2.6665      0.563     -4.737      0.000      -3.770      -1.563\n",
       "floors         1.304e+04   2651.779      4.916      0.000    7838.025    1.82e+04\n",
       "waterfront    -2.709e-06   1.69e-06     -1.601      0.109   -6.02e-06    6.07e-07\n",
       "view          -2.059e-06   1.29e-06     -1.601      0.109   -4.58e-06    4.61e-07\n",
       "condition      2.806e+04   1522.847     18.424      0.000    2.51e+04     3.1e+04\n",
       "grade          7.731e+04   1652.990     46.770      0.000    7.41e+04    8.06e+04\n",
       "sqft_above       31.4271      1.821     17.261      0.000      27.858      34.996\n",
       "sqft_basement    27.0205      2.076     13.016      0.000      22.952      31.089\n",
       "yr_built      -1945.2901     48.591    -40.034      0.000   -2040.534   -1850.046\n",
       "yr_renovated     3.2e-08      2e-08      1.601      0.109   -7.18e-09    7.12e-08\n",
       "zipcode        -262.2685     21.449    -12.228      0.000    -304.310    -220.227\n",
       "lat            5.387e+05   6721.062     80.155      0.000    5.26e+05    5.52e+05\n",
       "long          -3359.7642   9748.237     -0.345      0.730   -2.25e+04    1.57e+04\n",
       "sqft_living15    50.0921      2.814     17.801      0.000      44.576      55.608\n",
       "sqft_lot15       -5.5214      0.635     -8.691      0.000      -6.767      -4.276\n",
       "==============================================================================\n",
       "Omnibus:                     1899.320   Durbin-Watson:                   1.991\n",
       "Prob(Omnibus):                  0.000   Jarque-Bera (JB):             4113.821\n",
       "Skew:                           0.775   Prob(JB):                         0.00\n",
       "Kurtosis:                       5.052   Cond. No.                     4.43e+26\n",
       "==============================================================================\n",
       "\n",
       "Notes:\n",
       "[1] Standard Errors assume that the covariance matrix of the errors is correctly specified.\n",
       "[2] The smallest eigenvalue is 2.32e-30. This might indicate that there are\n",
       "strong multicollinearity problems or that the design matrix is singular.\n",
       "\"\"\""
      ]
     },
     "execution_count": 276,
     "metadata": {},
     "output_type": "execute_result"
    }
   ],
   "source": [
    "import statsmodels.api as sm\n",
    "import statsmodels.formula.api as smf\n",
    "\n",
    "Xc = sm.add_constant(X)\n",
    "linear_regression = sm.OLS(y,Xc)\n",
    "fitted_model=linear_regression.fit()\n",
    "fitted_model.summary()"
   ]
  },
  {
   "cell_type": "markdown",
   "metadata": {},
   "source": [
    "### Quantile Regression"
   ]
  },
  {
   "cell_type": "code",
   "execution_count": 277,
   "metadata": {},
   "outputs": [
    {
     "name": "stdout",
     "output_type": "stream",
     "text": [
      "    qt     intercept      x_coef  cf_lower_bound  cf_upper_bound\n",
      "0  0.1  42836.363542  123.636364      121.910844      125.361883\n",
      "1  0.2  34093.556945  151.809356      149.768675      153.850036\n",
      "2  0.3  28294.573645  178.682171      175.967595      181.396747\n",
      "3  0.4  33434.083832  201.463473      198.244432      204.682515\n",
      "4  0.5  52696.035243  216.740088      213.230524      220.249652\n",
      "5  0.6  72811.447813  230.639731      227.224993      234.054469\n",
      "6  0.7  84736.301369  251.027397      246.984937      255.069857\n",
      "7  0.8  86602.871214  287.081339      281.563940      292.598739\n",
      "8  0.9  54209.999914  371.000000      362.604339      379.395661\n"
     ]
    }
   ],
   "source": [
    "# We will use the python package statsmodels for Quantile Regression\n",
    "#\n",
    "import statsmodels.formula.api as smf\n",
    "quantiles = np.arange(0.1,1,0.1) \n",
    "models = []\n",
    "params = []\n",
    "#\n",
    "mod = smf.quantreg('price ~ sqft_living', data)\n",
    "# We build models for each quantile in our list quantiles inside a for loop\n",
    "# As we build these models we also store the model parameters in a list called params. \n",
    "for qt in quantiles: \n",
    "    res = mod.fit(q = qt )\n",
    "    models.append(res)\n",
    "    params.append([qt, res.params['Intercept'], res.params['sqft_living']] + res.conf_int().loc['sqft_living'].tolist())\n",
    "\n",
    "# Lastly we make a dataframe of the same name, so we we can view our different models.\n",
    "params_df = pd.DataFrame(data = params, columns = ['qt', 'intercept', 'x_coef', 'cf_lower_bound', 'cf_upper_bound'])\n",
    "print(params_df)"
   ]
  },
  {
   "cell_type": "code",
   "execution_count": 284,
   "metadata": {},
   "outputs": [
    {
     "data": {
      "text/plain": [
       "<matplotlib.legend.Legend at 0x7fdaa82850a0>"
      ]
     },
     "execution_count": 284,
     "metadata": {},
     "output_type": "execute_result"
    },
    {
     "data": {
      "image/png": "[encoded data removed]",
      "text/plain": [
       "<Figure size 432x288 with 1 Axes>"
      ]
     },
     "metadata": {},
     "output_type": "display_data"
    }
   ],
   "source": [
    "## Plot 0.1th, 0.5th and 0.9th quantile models against our original data.\n",
    "# \n",
    "\n",
    "x_axis = data['sqft_living'].values.reshape(-1,1)\n",
    "y_axis = data['price'].values\n",
    "model2 = LinearRegression(fit_intercept = True, normalize = False)\n",
    "model2.fit(x_axis, y_axis)\n",
    "\n",
    "y_pred2 = model2.predict(x_axis)\n",
    "\n",
    "# Plotting the 0.1th, 0.5th and 0.9th quantile models against the original data.\n",
    "\n",
    "plt.figure(5)\n",
    "plt.scatter(x_axis, y_axis,  color='orange')\n",
    "plt.plot(x_axis, y_pred2, color='blue',\n",
    "         linewidth=3, label='Lin Reg')\n",
    "\n",
    "y_pred3 = models[0].params['Intercept'] + models[0].params['sqft_living'] * x_axis\n",
    "plt.plot(x_axis, y_pred3, color='purple',\n",
    "         linewidth=3, label='Q Reg : 0.1')\n",
    "\n",
    "y_pred4 = models[4].params['Intercept'] + models[4].params['sqft_living'] * x_axis\n",
    "plt.plot(x_axis, y_pred4, color='green',\n",
    "         linewidth=3, label='Q Reg : 0.5')\n",
    "\n",
    "\n",
    "y_pred5 = models[8].params['Intercept'] + models[8].params['sqft_living'] * x_axis\n",
    "plt.plot(x_axis, y_pred5, color='red',\n",
    "         linewidth=3, label='Q Reg : 0.9')\n",
    "\n",
    "plt.xticks(())\n",
    "plt.yticks(())\n",
    "plt.xlabel(\"x\")\n",
    "plt.ylabel(\"y and predicted y\")\n",
    "plt.title(\"Quantile regression on data with constant variance\")\n",
    "plt.legend()"
   ]
  },
  {
   "cell_type": "code",
   "execution_count": 279,
   "metadata": {},
   "outputs": [
    {
     "data": {
      "text/plain": [
       "<Figure size 432x288 with 0 Axes>"
      ]
     },
     "metadata": {},
     "output_type": "display_data"
    },
    {
     "data": {
      "image/png": "[encoded data removed]",
      "text/plain": [
       "<Figure size 432x288 with 1 Axes>"
      ]
     },
     "metadata": {
      "needs_background": "light"
     },
     "output_type": "display_data"
    }
   ],
   "source": [
    "## Plot the changes in the quantile coeffiecients\n",
    "# \n",
    "plt.figure(6)\n",
    "params_df.plot(x = 'qt', y = ['x_coef','cf_lower_bound', 'cf_upper_bound'], \n",
    "    title = 'Slope for different quantiles', kind ='line', style = ['b-','r--','g--'])\n",
    "plt.show()"
   ]
  },
  {
   "cell_type": "markdown",
   "metadata": {},
   "source": [
    "### Compare same data with Linear Regression on 'sqft_living' Vs 'price' summary"
   ]
  },
  {
   "cell_type": "code",
   "execution_count": 280,
   "metadata": {},
   "outputs": [
    {
     "data": {
      "text/html": [
       "<table class=\"simpletable\">\n",
       "<caption>OLS Regression Results</caption>\n",
       "<tr>\n",
       "  <th>Dep. Variable:</th>            <td>y</td>        <th>  R-squared:         </th>  <td>   0.493</td>  \n",
       "</tr>\n",
       "<tr>\n",
       "  <th>Model:</th>                   <td>OLS</td>       <th>  Adj. R-squared:    </th>  <td>   0.493</td>  \n",
       "</tr>\n",
       "<tr>\n",
       "  <th>Method:</th>             <td>Least Squares</td>  <th>  F-statistic:       </th>  <td>2.100e+04</td> \n",
       "</tr>\n",
       "<tr>\n",
       "  <th>Date:</th>             <td>Wed, 02 Jun 2021</td> <th>  Prob (F-statistic):</th>   <td>  0.00</td>   \n",
       "</tr>\n",
       "<tr>\n",
       "  <th>Time:</th>                 <td>07:38:45</td>     <th>  Log-Likelihood:    </th> <td>-3.0024e+05</td>\n",
       "</tr>\n",
       "<tr>\n",
       "  <th>No. Observations:</th>      <td> 21610</td>      <th>  AIC:               </th>  <td>6.005e+05</td> \n",
       "</tr>\n",
       "<tr>\n",
       "  <th>Df Residuals:</th>          <td> 21608</td>      <th>  BIC:               </th>  <td>6.005e+05</td> \n",
       "</tr>\n",
       "<tr>\n",
       "  <th>Df Model:</th>              <td>     1</td>      <th>                     </th>      <td> </td>     \n",
       "</tr>\n",
       "<tr>\n",
       "  <th>Covariance Type:</th>      <td>nonrobust</td>    <th>                     </th>      <td> </td>     \n",
       "</tr>\n",
       "</table>\n",
       "<table class=\"simpletable\">\n",
       "<tr>\n",
       "    <td></td>       <th>coef</th>     <th>std err</th>      <th>t</th>      <th>P>|t|</th>  <th>[0.025</th>    <th>0.975]</th>  \n",
       "</tr>\n",
       "<tr>\n",
       "  <th>const</th> <td>-4.387e+04</td> <td> 4405.781</td> <td>   -9.957</td> <td> 0.000</td> <td>-5.25e+04</td> <td>-3.52e+04</td>\n",
       "</tr>\n",
       "<tr>\n",
       "  <th>x1</th>    <td>  280.8088</td> <td>    1.938</td> <td>  144.915</td> <td> 0.000</td> <td>  277.011</td> <td>  284.607</td>\n",
       "</tr>\n",
       "</table>\n",
       "<table class=\"simpletable\">\n",
       "<tr>\n",
       "  <th>Omnibus:</th>       <td>14812.475</td> <th>  Durbin-Watson:     </th>  <td>   1.983</td> \n",
       "</tr>\n",
       "<tr>\n",
       "  <th>Prob(Omnibus):</th>  <td> 0.000</td>   <th>  Jarque-Bera (JB):  </th> <td>543289.317</td>\n",
       "</tr>\n",
       "<tr>\n",
       "  <th>Skew:</th>           <td> 2.820</td>   <th>  Prob(JB):          </th>  <td>    0.00</td> \n",
       "</tr>\n",
       "<tr>\n",
       "  <th>Kurtosis:</th>       <td>26.907</td>   <th>  Cond. No.          </th>  <td>5.63e+03</td> \n",
       "</tr>\n",
       "</table><br/><br/>Notes:<br/>[1] Standard Errors assume that the covariance matrix of the errors is correctly specified.<br/>[2] The condition number is large, 5.63e+03. This might indicate that there are<br/>strong multicollinearity or other numerical problems."
      ],
      "text/plain": [
       "<class 'statsmodels.iolib.summary.Summary'>\n",
       "\"\"\"\n",
       "                            OLS Regression Results                            \n",
       "==============================================================================\n",
       "Dep. Variable:                      y   R-squared:                       0.493\n",
       "Model:                            OLS   Adj. R-squared:                  0.493\n",
       "Method:                 Least Squares   F-statistic:                 2.100e+04\n",
       "Date:                Wed, 02 Jun 2021   Prob (F-statistic):               0.00\n",
       "Time:                        07:38:45   Log-Likelihood:            -3.0024e+05\n",
       "No. Observations:               21610   AIC:                         6.005e+05\n",
       "Df Residuals:                   21608   BIC:                         6.005e+05\n",
       "Df Model:                           1                                         \n",
       "Covariance Type:            nonrobust                                         \n",
       "==============================================================================\n",
       "                 coef    std err          t      P>|t|      [0.025      0.975]\n",
       "------------------------------------------------------------------------------\n",
       "const      -4.387e+04   4405.781     -9.957      0.000   -5.25e+04   -3.52e+04\n",
       "x1           280.8088      1.938    144.915      0.000     277.011     284.607\n",
       "==============================================================================\n",
       "Omnibus:                    14812.475   Durbin-Watson:                   1.983\n",
       "Prob(Omnibus):                  0.000   Jarque-Bera (JB):           543289.317\n",
       "Skew:                           2.820   Prob(JB):                         0.00\n",
       "Kurtosis:                      26.907   Cond. No.                     5.63e+03\n",
       "==============================================================================\n",
       "\n",
       "Notes:\n",
       "[1] Standard Errors assume that the covariance matrix of the errors is correctly specified.\n",
       "[2] The condition number is large, 5.63e+03. This might indicate that there are\n",
       "strong multicollinearity or other numerical problems.\n",
       "\"\"\""
      ]
     },
     "execution_count": 280,
     "metadata": {},
     "output_type": "execute_result"
    }
   ],
   "source": [
    "import statsmodels.api as sm\n",
    "import statsmodels.formula.api as smf\n",
    "\n",
    "\n",
    "X = data['sqft_living'].values.reshape(-1,1)\n",
    "y = data['price'].values\n",
    "Xc = sm.add_constant(X)\n",
    "linear_regression = sm.OLS(y,Xc)\n",
    "fitted_model=linear_regression.fit()\n",
    "fitted_model.summary()"
   ]
  },
  {
   "cell_type": "markdown",
   "metadata": {},
   "source": [
    "# Conclussion\n",
    "1. linear : MSE: 11340881063.399134\n",
    "2. lasso MSE: 11266189473.755194\n",
    "3. Ridge MSE :  11265882050.546537\n",
    "4. ElasticNet MSE:  11265882048.43807\n",
    "\n",
    "ElasticNet model performed better followed by the Ridge model. "
   ]
  },
  {
   "cell_type": "markdown",
   "metadata": {},
   "source": [
    "# Recommendation\n",
    "I recommend Hass Consult to use ElasticNet and Ridge model."
   ]
  }
 ],
 "metadata": {
  "kernelspec": {
   "display_name": "Python 3",
   "language": "python",
   "name": "python3"
  },
  "language_info": {
   "codemirror_mode": {
    "name": "ipython",
    "version": 3
   },
   "file_extension": ".py",
   "mimetype": "text/x-python",
   "name": "python",
   "nbconvert_exporter": "python",
   "pygments_lexer": "ipython3",
   "version": "3.8.5"
  },
  "toc-autonumbering": true
 },
 "nbformat": 4,
 "nbformat_minor": 4
}
